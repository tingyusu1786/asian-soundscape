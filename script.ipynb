{
 "cells": [
  {
   "cell_type": "code",
   "execution_count": 1,
   "id": "67f76d6f",
   "metadata": {},
   "outputs": [],
   "source": [
    "import re\n",
    "import numpy as np\n",
    "import urllib.request\n",
    "import ssl\n",
    "ssl._create_default_https_context = ssl._create_unverified_context"
   ]
  },
  {
   "cell_type": "code",
   "execution_count": 2,
   "id": "3a1c2e99",
   "metadata": {},
   "outputs": [],
   "source": [
    "def is_float(s):\n",
    "    try:\n",
    "        float(s)\n",
    "        return True\n",
    "    except ValueError:\n",
    "        return False"
   ]
  },
  {
   "cell_type": "code",
   "execution_count": 3,
   "id": "1cb3f1fa",
   "metadata": {},
   "outputs": [],
   "source": [
    "# mapping: soundclassid -> spiece\n",
    "mapping = {\n",
    "    \"295\": \"NaN\\tNaN\",\n",
    "    \"363\": \"Rhfo\\t7\",\n",
    "    \"366\": \"Bada\\t6\",\n",
    "    \"449\": \"Rhmo\\t8\",\n",
    "    \"496\": \"Mupu\\t1\",\n",
    "    \"497\": \"Myla\\t5\",\n",
    "    \"498\": \"Piab\\t2\",\n",
    "    \"499\": \"Plta\\t6\",\n",
    "    \"500\": \"Scku\\t2\",\n",
    "    \"501\": \"Vesi\\t3\",\n",
    "    \"502\": \"NaN\\tNaN\",\n",
    "    \"503\": \"Kefu\\t10\",\n",
    "    \"504\": \"Myse\\t5\",\n",
    "    \"505\": \"Myfr\\t5\",\n",
    "    \"506\": \"Mugr\\t1\",\n",
    "    \"507\": \"NaN\\t4\",\n",
    "    \"508\": \"NaN\\t4\",\n",
    "    \"509\": \"Tain\\t11\",\n",
    "    \"510\": \"NaN\\tNaN\",\n",
    "    \"511\": \"Hais\\t1\",\n",
    "    \"512\": \"NaN\\tNaN\",\n",
    "    \"513\": \"NaN\\t1\",\n",
    "    \"514\": \"NaN\\t1\",\n",
    "    \"515\": \"NaN\\tNaN\",\n",
    "    \"516\": \"Sula\\t5\",\n",
    "    \"517\": \"Myfi\\t5\",\n",
    "    \"518\": \"Myso\\t5\",\n",
    "    \"519\": \"NaN\\tNaN\",\n",
    "    \"520\": \"Epse\\t3\",\n",
    "    \"521\": \"Hiar\\t9\",\n",
    "    \"522\": \"Mifu\\t2\",\n",
    "    \"523\": \"Myfo\\t5\",\n",
    "    \"524\": \"Myru\\t5\",\n",
    "    \"525\": \"Nypl\\t3\",\n",
    "    \"526\": \"NaN\\tNaN\",\n",
    "    \"546\": \"Haha\\t1\",\n",
    "}"
   ]
  },
  {
   "cell_type": "code",
   "execution_count": 4,
   "id": "124e52a9",
   "metadata": {},
   "outputs": [],
   "source": [
    "wanted_id = []\n",
    "wanted_audio_id = []\n",
    "wanted_file_name = []\n",
    "seq_segs = []\n",
    "# with open(\"as_label.txt\", \"r\") as f:\n",
    "with open(\"0627_2340\", \"r\") as f:    \n",
    "    lines = f.readlines()\n",
    "    for line in lines:\n",
    "        data = line.split('\\t')\n",
    "        if data[11] == 'v':\n",
    "            wanted_id += [data[0]]\n",
    "            wanted_audio_id += [data[10]]\n",
    "            wanted_file_name += [data[1]]\n",
    "            seq_segs += [data[13]]"
   ]
  },
  {
   "cell_type": "code",
   "execution_count": 5,
   "id": "255b3e47",
   "metadata": {},
   "outputs": [],
   "source": [
    "page = urllib.request.urlopen('https://silic.tbn.org.tw/api/labels?fbclid=IwAR08a16vXmMWAI3w4follrp4zuOipu7i6866OUE8_LOz_nVFIRsS6JnMOsw')\n",
    "content = page.read().decode(page.headers.get_content_charset())"
   ]
  },
  {
   "cell_type": "code",
   "execution_count": 6,
   "id": "e0c5fe3d",
   "metadata": {},
   "outputs": [],
   "source": [
    "split_text = re.split('\\t|\\n', content)"
   ]
  },
  {
   "cell_type": "code",
   "execution_count": 7,
   "id": "86589c86",
   "metadata": {
    "scrolled": true
   },
   "outputs": [],
   "source": [
    "# info\n",
    "write_path = '0627_2340_table.txt'\n",
    "num_elements = 14\n",
    "\n",
    "# rearrange text into a list of lists\n",
    "# each of list contains 14 elements\n",
    "num_rows = int(len(split_text) / num_elements)\n",
    "# reshape \n",
    "reshape_text = np.reshape(np.array(split_text), [num_rows, num_elements])\n",
    "\n",
    "# audioid localfilename source sourceid sourcefilename \n",
    "# labelid labelannotationid time_begin time_end freq_low \n",
    "# freq_high soundclassid aiscore score\n",
    "\n",
    "cursor = 0\n",
    "counter = 1\n",
    "\n",
    "with open(write_path, 'w') as f:\n",
    "    for i in range(1, num_rows-1):\n",
    "        data = list(reshape_text[i])\n",
    "        \n",
    "        # only put lines with wanted id\n",
    "        if data[0] in wanted_audio_id:\n",
    "            info = \"\"\n",
    "            \n",
    "            index = wanted_audio_id.index(data[0])\n",
    "            file_number = str(wanted_id[index])\n",
    "            file_name = wanted_file_name[index]\n",
    "            seq_seg = seq_segs[index]\n",
    "            \n",
    "            # process\n",
    "            times = [str(float(time)/1000.) for time in data[7:9]]\n",
    "            try:\n",
    "                spiece = mapping[str(data[11])]\n",
    "            except:\n",
    "                spiece = 'NULL\\tNULL'\n",
    "\n",
    "            # add number for duplicated audio id\n",
    "            current_id = data[0]\n",
    "            if data[0] == cursor:\n",
    "                counter += 1\n",
    "            else:\n",
    "                cursor = data[0]\n",
    "                counter = 1\n",
    "            # seq num\n",
    "            if seq_seg == '0':\n",
    "                seq_num = '1'\n",
    "                info += \"seq note: 0\"\n",
    "            else:\n",
    "                seg_split = seq_seg.split('/')\n",
    "                if all([is_float(ss) for ss in seg_split]):\n",
    "                    # compute seq num\n",
    "                    seq_arr = [float(ss) for ss in seg_split] + [float(times[0])]\n",
    "                    seq_arr.sort()\n",
    "                    seq_num = str(seq_arr.index(float(times[0])))\n",
    "                    info += \"seq note: {}, times begin: {}, seq num: {}\".format(seq_seg, times[0], seq_num)\n",
    "                else:\n",
    "                    # return origianl seq note\n",
    "                    seq_num = seq_seg\n",
    "                    info += \"no seq num\"\n",
    "            \n",
    "            full_str = [file_number] + [file_name] + [str(counter)] + times + data[9:11] + [seq_num] + [spiece] + [info]\n",
    "            f.write('\\t'.join(full_str) + ('' if i == num_rows-1 else '\\n'))"
   ]
  },
  {
   "cell_type": "code",
   "execution_count": 8,
   "id": "8e41b07f",
   "metadata": {},
   "outputs": [],
   "source": [
    "# sort lines based on file number\n",
    "with open(write_path, 'r') as f:\n",
    "    lines = f.readlines()\n",
    "    lines.sort(key=lambda l: int(l.split('\\t')[0]))\n",
    "\n",
    "with open(write_path, 'w') as f:\n",
    "    for line in lines:\n",
    "        f.write(line)"
   ]
  }
 ],
 "metadata": {
  "kernelspec": {
   "display_name": "Python 3",
   "language": "python",
   "name": "python3"
  },
  "language_info": {
   "codemirror_mode": {
    "name": "ipython",
    "version": 3
   },
   "file_extension": ".py",
   "mimetype": "text/x-python",
   "name": "python",
   "nbconvert_exporter": "python",
   "pygments_lexer": "ipython3",
   "version": "3.9.5"
  }
 },
 "nbformat": 4,
 "nbformat_minor": 5
}
